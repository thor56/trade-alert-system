{
 "cells": [
  {
   "cell_type": "code",
   "execution_count": 1,
   "metadata": {},
   "outputs": [],
   "source": [
    "import pandas as pd\n",
    "import sqlite3\n",
    "import os\n",
    "import re\n",
    "\n",
    "\n",
    "conn = sqlite3.connect('test.db')\n",
    "symbolDb = pd.read_excel(\"FinalList.xlsx\", engine='openpyxl')\n",
    "c = conn.cursor()"
   ]
  },
  {
   "cell_type": "code",
   "execution_count": 2,
   "metadata": {},
   "outputs": [
    {
     "name": "stdout",
     "output_type": "stream",
     "text": [
      "     Coin                symbol_id    SymbolDb\n",
      "0    ALGO   BINANCE_SPOT_ALGO_USDT        None\n",
      "1   SUPER  BINANCE_SPOT_SUPER_USDT   SUPERUSDT\n",
      "2   ALICE  BINANCE_SPOT_ALICE_USDT   ALICEBUSD\n",
      "3     CRO     KUCOIN_SPOT_CRO_USDT     CROUSDT\n",
      "4     KCS     KUCOIN_SPOT_KCS_USDT     KCSUSDT\n",
      "5    POLS   BINANCE_SPOT_POLS_USDT    POLSUSDT\n",
      "6     FTM    BINANCE_SPOT_FTM_USDT     FTMUSDT\n",
      "7    MNGO    GATEIO_SPOT_MNGO_USDT        None\n",
      "8     EQZ     KUCOIN_SPOT_EQZ_USDT     EQZUSDT\n",
      "9    STEP    GATEIO_SPOT_STEP_USDT     STEPUSD\n",
      "10    MLN    BINANCE_SPOT_MLN_USDT     MLNUSDT\n",
      "11   LOCG    KUCOIN_SPOT_LOCG_USDT    LOCGUSDT\n",
      "12    RAY    BINANCE_SPOT_RAY_USDT     RAYBUSD\n",
      "13   MANA   BINANCE_SPOT_MANA_USDT    MANAUSDT\n",
      "14    BNB    BINANCE_SPOT_BNB_USDT     BNBUSDT\n",
      "15   DATA   BINANCE_SPOT_DATA_USDT    DATABUSD\n",
      "16    ADA    BINANCE_SPOT_ADA_USDT     ADAUSDT\n",
      "17    LRC    BINANCE_SPOT_LRC_USDT        None\n",
      "18    LTC    BINANCE_SPOT_LTC_USDT     LTCUSDT\n",
      "19   HBAR   BINANCE_SPOT_HBAR_USDT    HBARUSDT\n",
      "20    PHA    BINANCE_SPOT_PHA_USDT     PHAUSDT\n",
      "21    AXS    BINANCE_SPOT_AXS_USDT     AXSUSDT\n",
      "22    ONE    BINANCE_SPOT_ONE_USDT     ONEUSDT\n",
      "23     AR     BINANCE_SPOT_AR_USDT        None\n",
      "24    ACE     KUCOIN_SPOT_ACE_USDT        None\n",
      "25  TULIP   GATEIO_SPOT_TULIP_USDT        None\n",
      "26   DUSK   BINANCE_SPOT_DUSK_USDT    DUSKUSDT\n",
      "27   FARM   BINANCE_SPOT_FARM_USDT    FARMUSDT\n",
      "28   GENS    KUCOIN_SPOT_GENS_USDT    GENSUSDT\n",
      "29    VRA     KUCOIN_SPOT_VRA_USDT     VRAUSDT\n",
      "30    HNT    BINANCE_SPOT_HNT_USDT     HNTUSDT\n",
      "31   HYVE    KUCOIN_SPOT_HYVE_USDT    HYVEUSDT\n",
      "32   ORAI    KUCOIN_SPOT_ORAI_USDT        None\n",
      "33   SAND   BINANCE_SPOT_SAND_USDT    SANDUSDT\n",
      "34  SUSHI  BINANCE_SPOT_SUSHI_USDT   SUSHIUSDT\n",
      "35    ACH     GATEIO_SPOT_ACH_USDT      ACHUSD\n",
      "36   SHIB   BINANCE_SPOT_SHIB_USDT    SHIBUSDT\n",
      "37   POLK    KUCOIN_SPOT_POLK_USDT        None\n",
      "38   FORM    KUCOIN_SPOT_FORM_USDT    FORMUSDT\n",
      "39    CGG     KUCOIN_SPOT_CGG_USDT     CGGUSDT\n",
      "40    SRK     KUCOIN_SPOT_SRK_USDT        None\n",
      "41   RNDR   BINANCE_SPOT_RNDR_USDT    RNDRUSDT\n",
      "42    BTC    BINANCE_SPOT_BTC_USDT        None\n",
      "     Ticker Position            TimeStamp\n",
      "0  RNDRUSDT     LONG  2021-11-22 09:00:33\n",
      "1   STEPUSD     LONG  2021-11-22 09:00:08\n",
      "2  SHIBUSDT     LONG  2021-11-22 06:42:13\n",
      "3  RNDRUSDT     LONG  2021-11-22 09:00:33\n",
      "4   STEPUSD     LONG  2021-11-22 09:00:08\n",
      "5  SHIBUSDT     LONG  2021-11-22 06:42:13\n",
      "6  RNDRUSDT     LONG  2021-11-22 09:00:33\n",
      "7   STEPUSD     LONG  2021-11-22 09:00:08\n",
      "8  SHIBUSDT     LONG  2021-11-22 06:42:13\n"
     ]
    }
   ],
   "source": [
    "print(pd.read_sql(\"select * from SymbolName\", conn))\n",
    "print(pd.read_sql(\"select * from TradeCall\", conn))\n",
    "\n"
   ]
  },
  {
   "cell_type": "code",
   "execution_count": 4,
   "metadata": {},
   "outputs": [
    {
     "data": {
      "text/plain": [
       "' SUPERUSDT'"
      ]
     },
     "execution_count": 4,
     "metadata": {},
     "output_type": "execute_result"
    }
   ],
   "source": [
    "df = pd.read_excel('FinalList.xlsx', engine='openpyxl')\n",
    "\n",
    "df.loc[df['symbol_id'] == 'BINANCE_SPOT_SUPER_USDT', 'SymbolDb'].values[0]"
   ]
  },
  {
   "cell_type": "code",
   "execution_count": 5,
   "metadata": {},
   "outputs": [],
   "source": [
    "def getSymbolIds():\n",
    "    df = pd.read_excel('FinalList.xlsx', engine='openpyxl')\n",
    "    symbol_list = df['symbol_id']\n",
    "    return symbol_list.tolist()"
   ]
  },
  {
   "cell_type": "code",
   "execution_count": 15,
   "metadata": {},
   "outputs": [
    {
     "name": "stdout",
     "output_type": "stream",
     "text": [
      "    Unnamed: 0 Unnamed: 0.1 time_period_start time_period_end time_open  \\\n",
      "0          NaN          NaN               NaN             NaN       NaN   \n",
      "1          NaN          NaN               NaN             NaN       NaN   \n",
      "2          NaN          NaN               NaN             NaN       NaN   \n",
      "3          NaN          NaN               NaN             NaN       NaN   \n",
      "4          NaN          NaN               NaN             NaN       NaN   \n",
      "..         ...          ...               ...             ...       ...   \n",
      "139        NaN          NaN               NaN             NaN       NaN   \n",
      "140        NaN          NaN               NaN             NaN       NaN   \n",
      "141        NaN          NaN               NaN             NaN       NaN   \n",
      "142        NaN          NaN               NaN             NaN       NaN   \n",
      "143        NaN          NaN               NaN             NaN       NaN   \n",
      "\n",
      "    time_close price_open price_high price_low price_close volume_traded  \\\n",
      "0          NaN        NaN        NaN       NaN         NaN           NaN   \n",
      "1          NaN        NaN        NaN       NaN         NaN           NaN   \n",
      "2          NaN        NaN        NaN       NaN         NaN           NaN   \n",
      "3          NaN        NaN        NaN       NaN         NaN           NaN   \n",
      "4          NaN        NaN        NaN       NaN         NaN           NaN   \n",
      "..         ...        ...        ...       ...         ...           ...   \n",
      "139        NaN        NaN        NaN       NaN         NaN           NaN   \n",
      "140        NaN        NaN        NaN       NaN         NaN           NaN   \n",
      "141        NaN        NaN        NaN       NaN         NaN           NaN   \n",
      "142        NaN        NaN        NaN       NaN         NaN           NaN   \n",
      "143        NaN        NaN        NaN       NaN         NaN           NaN   \n",
      "\n",
      "    trades_count swings SymbolDb  \n",
      "0            NaN    NaN      NaN  \n",
      "1            NaN    NaN      NaN  \n",
      "2            NaN    NaN      NaN  \n",
      "3            NaN    NaN      NaN  \n",
      "4            NaN    NaN      NaN  \n",
      "..           ...    ...      ...  \n",
      "139          NaN    NaN      NaN  \n",
      "140          NaN    NaN      NaN  \n",
      "141          NaN    NaN      NaN  \n",
      "142          NaN    NaN      NaN  \n",
      "143          NaN    NaN      NaN  \n",
      "\n",
      "[144 rows x 14 columns]\n"
     ]
    }
   ],
   "source": [
    "symbols = getSymbolIds()\n",
    "lis = []\n",
    "for symbol in symbols:\n",
    "    for root, subdirectories, files in os.walk('swings/'):\n",
    "                for subdirectory in subdirectories:\n",
    "                    folderName = os.path.join(root, subdirectory)\n",
    "                    df = pd.read_excel(folderName + '/' +\n",
    "                                       symbol + '.xlsx', engine='openpyxl')\n",
    "                    lis.append(df)\n",
    "SwingDf = pd.concat(lis)\n",
    "print(SwingDf)\n",
    "              "
   ]
  },
  {
   "cell_type": "code",
   "execution_count": null,
   "metadata": {},
   "outputs": [],
   "source": []
  }
 ],
 "metadata": {
  "kernelspec": {
   "display_name": "Python 3",
   "language": "python",
   "name": "python3"
  },
  "language_info": {
   "codemirror_mode": {
    "name": "ipython",
    "version": 3
   },
   "file_extension": ".py",
   "mimetype": "text/x-python",
   "name": "python",
   "nbconvert_exporter": "python",
   "pygments_lexer": "ipython3",
   "version": "3.8.4"
  }
 },
 "nbformat": 4,
 "nbformat_minor": 4
}

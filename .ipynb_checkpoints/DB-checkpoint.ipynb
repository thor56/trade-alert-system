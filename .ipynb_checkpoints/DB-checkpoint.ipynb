{
 "cells": [
  {
   "cell_type": "code",
   "execution_count": 1,
   "metadata": {},
   "outputs": [],
   "source": [
    "import pandas as pd\n",
    "import sqlite3\n",
    "import os\n",
    "import re\n",
    "\n",
    "\n",
    "conn = sqlite3.connect('test.db')\n",
    "symbolDb = pd.read_excel(\"FinalList.xlsx\", engine='openpyxl')\n",
    "c = conn.cursor()"
   ]
  },
  {
   "cell_type": "code",
   "execution_count": 16,
   "metadata": {},
   "outputs": [
    {
     "name": "stdout",
     "output_type": "stream",
     "text": [
      "     Coin                symbol_id    SymbolDb\n",
      "0    ALGO   BINANCE_SPOT_ALGO_USDT        None\n",
      "1   SUPER  BINANCE_SPOT_SUPER_USDT   SUPERUSDT\n",
      "2   ALICE  BINANCE_SPOT_ALICE_USDT   ALICEBUSD\n",
      "3     CRO     KUCOIN_SPOT_CRO_USDT     CROUSDT\n",
      "4     KCS     KUCOIN_SPOT_KCS_USDT     KCSUSDT\n",
      "5    POLS   BINANCE_SPOT_POLS_USDT    POLSUSDT\n",
      "6     FTM    BINANCE_SPOT_FTM_USDT     FTMUSDT\n",
      "7    MNGO    GATEIO_SPOT_MNGO_USDT        None\n",
      "8     EQZ     KUCOIN_SPOT_EQZ_USDT     EQZUSDT\n",
      "9    STEP    GATEIO_SPOT_STEP_USDT     STEPUSD\n",
      "10    MLN    BINANCE_SPOT_MLN_USDT     MLNUSDT\n",
      "11   LOCG    KUCOIN_SPOT_LOCG_USDT    LOCGUSDT\n",
      "12    RAY    BINANCE_SPOT_RAY_USDT     RAYBUSD\n",
      "13   MANA   BINANCE_SPOT_MANA_USDT    MANAUSDT\n",
      "14    BNB    BINANCE_SPOT_BNB_USDT     BNBUSDT\n",
      "15   DATA   BINANCE_SPOT_DATA_USDT    DATABUSD\n",
      "16    ADA    BINANCE_SPOT_ADA_USDT     ADAUSDT\n",
      "17    LRC    BINANCE_SPOT_LRC_USDT        None\n",
      "18    LTC    BINANCE_SPOT_LTC_USDT     LTCUSDT\n",
      "19   HBAR   BINANCE_SPOT_HBAR_USDT    HBARUSDT\n",
      "20    PHA    BINANCE_SPOT_PHA_USDT     PHAUSDT\n",
      "21    AXS    BINANCE_SPOT_AXS_USDT     AXSUSDT\n",
      "22    ONE    BINANCE_SPOT_ONE_USDT     ONEUSDT\n",
      "23     AR     BINANCE_SPOT_AR_USDT        None\n",
      "24    ACE     KUCOIN_SPOT_ACE_USDT        None\n",
      "25  TULIP   GATEIO_SPOT_TULIP_USDT        None\n",
      "26   DUSK   BINANCE_SPOT_DUSK_USDT    DUSKUSDT\n",
      "27   FARM   BINANCE_SPOT_FARM_USDT    FARMUSDT\n",
      "28   GENS    KUCOIN_SPOT_GENS_USDT    GENSUSDT\n",
      "29    VRA     KUCOIN_SPOT_VRA_USDT     VRAUSDT\n",
      "30    HNT    BINANCE_SPOT_HNT_USDT     HNTUSDT\n",
      "31   HYVE    KUCOIN_SPOT_HYVE_USDT    HYVEUSDT\n",
      "32   ORAI    KUCOIN_SPOT_ORAI_USDT        None\n",
      "33   SAND   BINANCE_SPOT_SAND_USDT    SANDUSDT\n",
      "34  SUSHI  BINANCE_SPOT_SUSHI_USDT   SUSHIUSDT\n",
      "35    ACH     GATEIO_SPOT_ACH_USDT      ACHUSD\n",
      "36   SHIB   BINANCE_SPOT_SHIB_USDT    SHIBUSDT\n",
      "37   POLK    KUCOIN_SPOT_POLK_USDT        None\n",
      "38   FORM    KUCOIN_SPOT_FORM_USDT    FORMUSDT\n",
      "39    CGG     KUCOIN_SPOT_CGG_USDT     CGGUSDT\n",
      "40    SRK     KUCOIN_SPOT_SRK_USDT        None\n",
      "41   RNDR   BINANCE_SPOT_RNDR_USDT    RNDRUSDT\n",
      "42    BTC    BINANCE_SPOT_BTC_USDT        None\n",
      "     Ticker Position            TimeStamp\n",
      "0  RNDRUSDT     LONG  2021-11-22 09:00:33\n",
      "1   STEPUSD     LONG  2021-11-22 09:00:08\n",
      "2  SHIBUSDT     LONG  2021-11-22 06:42:13\n",
      "3  RNDRUSDT     LONG  2021-11-22 09:00:33\n",
      "4   STEPUSD     LONG  2021-11-22 09:00:08\n",
      "5  SHIBUSDT     LONG  2021-11-22 06:42:13\n",
      "6  RNDRUSDT     LONG  2021-11-22 09:00:33\n",
      "7   STEPUSD     LONG  2021-11-22 09:00:08\n",
      "8  SHIBUSDT     LONG  2021-11-22 06:42:13\n",
      "Empty DataFrame\n",
      "Columns: [time_period_start, time_period_end, time_open, time_close, price_open, price_high, price_low, price_close, volume_traded, trades_count, swings, SymbolDb]\n",
      "Index: []\n"
     ]
    }
   ],
   "source": [
    "print(pd.read_sql(\"select * from SymbolName\", conn))\n",
    "print(pd.read_sql(\"select * from TradeCall\", conn))\n",
    "print(pd.read_sql(\"select * from SwingTable\", conn))\n",
    "\n"
   ]
  },
  {
   "cell_type": "code",
   "execution_count": 4,
   "metadata": {},
   "outputs": [
    {
     "data": {
      "text/plain": [
       "' SUPERUSDT'"
      ]
     },
     "execution_count": 4,
     "metadata": {},
     "output_type": "execute_result"
    }
   ],
   "source": [
    "df = pd.read_excel('FinalList.xlsx', engine='openpyxl')\n",
    "\n",
    "df.loc[df['symbol_id'] == 'BINANCE_SPOT_SUPER_USDT', 'SymbolDb'].values[0]"
   ]
  },
  {
   "cell_type": "code",
   "execution_count": 3,
   "metadata": {},
   "outputs": [],
   "source": [
    "def getSymbolIds():\n",
    "    df = pd.read_excel('FinalList.xlsx', engine='openpyxl')\n",
    "    symbol_list = df['symbol_id']\n",
    "    return symbol_list.tolist()"
   ]
  },
  {
   "cell_type": "code",
   "execution_count": 17,
   "metadata": {},
   "outputs": [],
   "source": [
    "symbols = getSymbolIds()\n",
    "lis = []\n",
    "for symbol in symbols:\n",
    "    for root, subdirectories, files in os.walk('swings/'):\n",
    "                for subdirectory in subdirectories:\n",
    "                    folderName = os.path.join(root, subdirectory)\n",
    "                    df = pd.read_excel(folderName + '/' +\n",
    "                                       symbol + '.xlsx', engine='openpyxl')\n",
    "                    lis.append(df)\n",
    "SwingDf = pd.concat(lis)\n",
    "SwingDf = SwingDf.iloc[: , 2:]\n",
    "SwingDf.to_sql('SwingTable', conn, if_exists='append', index=False)\n",
    "\n",
    "              "
   ]
  },
  {
   "cell_type": "code",
   "execution_count": 20,
   "metadata": {},
   "outputs": [
    {
     "name": "stdout",
     "output_type": "stream",
     "text": [
      "                 time_period_start               time_period_end  \\\n",
      "0     2021-11-22T00:00:00.0000000Z  2021-11-22T00:10:00.0000000Z   \n",
      "1     2021-11-22T00:00:00.0000000Z  2021-11-22T00:10:00.0000000Z   \n",
      "2     2021-11-22T00:00:00.0000000Z  2021-11-22T00:10:00.0000000Z   \n",
      "3     2021-11-22T00:10:00.0000000Z  2021-11-22T00:20:00.0000000Z   \n",
      "4     2021-11-22T00:10:00.0000000Z  2021-11-22T00:20:00.0000000Z   \n",
      "...                            ...                           ...   \n",
      "2587  2021-11-28T09:50:00.0000000Z  2021-11-28T10:00:00.0000000Z   \n",
      "2588  2021-11-28T09:50:00.0000000Z  2021-11-28T10:00:00.0000000Z   \n",
      "2589  2021-11-28T10:00:00.0000000Z  2021-11-28T10:10:00.0000000Z   \n",
      "2590  2021-11-28T10:00:00.0000000Z  2021-11-28T10:10:00.0000000Z   \n",
      "2591  2021-11-28T10:00:00.0000000Z  2021-11-28T10:10:00.0000000Z   \n",
      "\n",
      "                         time_open                    time_close  price_open  \\\n",
      "0     2021-11-22T00:00:10.3610000Z  2021-11-22T00:09:36.8140000Z     0.82171   \n",
      "1     2021-11-22T00:00:10.3610000Z  2021-11-22T00:09:36.8140000Z     0.82171   \n",
      "2     2021-11-22T00:00:10.3610000Z  2021-11-22T00:09:36.8140000Z     0.82171   \n",
      "3     2021-11-22T00:10:51.3120000Z  2021-11-22T00:19:18.2470000Z     0.78843   \n",
      "4     2021-11-22T00:10:51.3120000Z  2021-11-22T00:19:18.2470000Z     0.78843   \n",
      "...                            ...                           ...         ...   \n",
      "2587  2021-11-28T09:50:00.9020000Z  2021-11-28T09:59:59.0870000Z     6.57500   \n",
      "2588  2021-11-28T09:50:00.9020000Z  2021-11-28T09:59:59.0870000Z     6.57500   \n",
      "2589  2021-11-28T10:00:07.8530000Z  2021-11-28T10:09:37.0570000Z     6.59900   \n",
      "2590  2021-11-28T10:00:07.8530000Z  2021-11-28T10:09:37.0570000Z     6.59900   \n",
      "2591  2021-11-28T10:00:07.8530000Z  2021-11-28T10:09:37.0570000Z     6.59900   \n",
      "\n",
      "      price_high  price_low  price_close  volume_traded  trades_count  \\\n",
      "0        0.82597    0.79000      0.79211   15869.350064          78.0   \n",
      "1        0.82597    0.79000      0.79211   15869.350064          78.0   \n",
      "2        0.82597    0.79000      0.79211   15869.350064          78.0   \n",
      "3        0.79234    0.77006      0.77972    4774.933163          46.0   \n",
      "4        0.79234    0.77006      0.77972    4774.933163          46.0   \n",
      "...          ...        ...          ...            ...           ...   \n",
      "2587     6.62100    6.57500      6.60200   10474.370000         134.0   \n",
      "2588     6.62100    6.57500      6.60200   10474.370000         134.0   \n",
      "2589     6.60400    6.51000      6.54800   18026.240000         259.0   \n",
      "2590     6.60400    6.51000      6.54800   18026.240000         259.0   \n",
      "2591     6.60400    6.51000      6.54800   18026.240000         259.0   \n",
      "\n",
      "       swings  SymbolDb    Ticker Position            TimeStamp  \n",
      "0         NaN   STEPUSD   STEPUSD     LONG  2021-11-22 09:00:08  \n",
      "1         NaN   STEPUSD   STEPUSD     LONG  2021-11-22 09:00:08  \n",
      "2         NaN   STEPUSD   STEPUSD     LONG  2021-11-22 09:00:08  \n",
      "3    -0.05165   STEPUSD   STEPUSD     LONG  2021-11-22 09:00:08  \n",
      "4    -0.05165   STEPUSD   STEPUSD     LONG  2021-11-22 09:00:08  \n",
      "...       ...       ...       ...      ...                  ...  \n",
      "2587  0.18500  RNDRUSDT  RNDRUSDT     LONG  2021-11-22 09:00:33  \n",
      "2588  0.18500  RNDRUSDT  RNDRUSDT     LONG  2021-11-22 09:00:33  \n",
      "2589 -0.11100  RNDRUSDT  RNDRUSDT     LONG  2021-11-22 09:00:33  \n",
      "2590 -0.11100  RNDRUSDT  RNDRUSDT     LONG  2021-11-22 09:00:33  \n",
      "2591 -0.11100  RNDRUSDT  RNDRUSDT     LONG  2021-11-22 09:00:33  \n",
      "\n",
      "[2592 rows x 15 columns]\n"
     ]
    }
   ],
   "source": [
    "newDf = pd.read_sql(\"select * from SwingTable s INNER JOIN TradeCall t ON t.Ticker = s.SymbolDb \", conn)\n",
    "newDf.to_excel(\"CalculatedSwing.xlsx\", index = False)"
   ]
  },
  {
   "cell_type": "code",
   "execution_count": null,
   "metadata": {},
   "outputs": [],
   "source": []
  }
 ],
 "metadata": {
  "kernelspec": {
   "display_name": "Python 3",
   "language": "python",
   "name": "python3"
  },
  "language_info": {
   "codemirror_mode": {
    "name": "ipython",
    "version": 3
   },
   "file_extension": ".py",
   "mimetype": "text/x-python",
   "name": "python",
   "nbconvert_exporter": "python",
   "pygments_lexer": "ipython3",
   "version": "3.8.4"
  }
 },
 "nbformat": 4,
 "nbformat_minor": 4
}

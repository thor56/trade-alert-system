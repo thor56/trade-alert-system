{
 "cells": [
  {
   "cell_type": "code",
   "execution_count": 7,
   "metadata": {},
   "outputs": [
    {
     "name": "stdout",
     "output_type": "stream",
     "text": [
      "  ticker position            timestamp\n",
      "0   step     LONG  2021-11-22 09:00:08\n"
     ]
    }
   ],
   "source": [
    "import pandas as pd\n",
    "import numpy as np\n",
    "\n",
    "df = pd.read_excel('OHLC/GATEIO_SPOT_STEP_USDT.xlsx')\n",
    "df2 = pd.read_excel('swings/GATEIO_SPOT_STEP_USDT.xlsx')\n",
    "df3 = pd.DataFrame([('step','LONG','2021-11-22 09:00:08')],columns=['ticker','position','timestamp'])\n",
    "print(df3.head())\n",
    "print(df2.head())"
   ]
  },
  {
   "cell_type": "code",
   "execution_count": null,
   "metadata": {},
   "outputs": [],
   "source": []
  },
  {
   "cell_type": "code",
   "execution_count": 86,
   "metadata": {},
   "outputs": [
    {
     "name": "stdout",
     "output_type": "stream",
     "text": [
      "     Unnamed: 0             time_period_start               time_period_end  \\\n",
      "0             0  2021-12-01T00:00:00.0000000Z  2021-12-01T00:10:00.0000000Z   \n",
      "1             1  2021-12-01T00:10:00.0000000Z  2021-12-01T00:20:00.0000000Z   \n",
      "2             2  2021-12-01T00:20:00.0000000Z  2021-12-01T00:30:00.0000000Z   \n",
      "3             3  2021-12-01T00:30:00.0000000Z  2021-12-01T00:40:00.0000000Z   \n",
      "4             4  2021-12-01T00:40:00.0000000Z  2021-12-01T00:50:00.0000000Z   \n",
      "..          ...                           ...                           ...   \n",
      "139         139  2021-12-01T23:10:00.0000000Z  2021-12-01T23:20:00.0000000Z   \n",
      "140         140  2021-12-01T23:20:00.0000000Z  2021-12-01T23:30:00.0000000Z   \n",
      "141         141  2021-12-01T23:30:00.0000000Z  2021-12-01T23:40:00.0000000Z   \n",
      "142         142  2021-12-01T23:40:00.0000000Z  2021-12-01T23:50:00.0000000Z   \n",
      "143         143  2021-12-01T23:50:00.0000000Z  2021-12-02T00:00:00.0000000Z   \n",
      "\n",
      "                        time_open                    time_close  price_open  \\\n",
      "0    2021-12-01T00:00:12.6820000Z  2021-12-01T00:09:59.9190000Z    57027.28   \n",
      "1    2021-12-01T00:10:02.5400000Z  2021-12-01T00:19:39.9900000Z    57202.33   \n",
      "2    2021-12-01T00:20:00.5060000Z  2021-12-01T00:29:51.0180000Z    57457.19   \n",
      "3    2021-12-01T00:30:03.2290000Z  2021-12-01T00:39:43.8060000Z    57581.11   \n",
      "4    2021-12-01T00:40:54.5060000Z  2021-12-01T00:49:47.7640000Z    57417.44   \n",
      "..                            ...                           ...         ...   \n",
      "139  2021-12-01T23:10:04.1850000Z  2021-12-01T23:19:43.3370000Z    57201.39   \n",
      "140  2021-12-01T23:20:08.3130000Z  2021-12-01T23:29:58.1280000Z    57093.26   \n",
      "141  2021-12-01T23:30:05.6330000Z  2021-12-01T23:39:59.9960000Z    57203.41   \n",
      "142  2021-12-01T23:40:03.8310000Z  2021-12-01T23:49:52.7490000Z    57246.96   \n",
      "143  2021-12-01T23:50:08.0370000Z  2021-12-01T23:59:36.4560000Z    57169.61   \n",
      "\n",
      "     price_high  price_low  price_close  volume_traded  trades_count  swings  \n",
      "0      57274.52   56700.00     57203.59      23.028005           230 -327.28  \n",
      "1      57575.88   57202.33     57424.19      15.294302           149  875.88  \n",
      "2      57567.53   57383.18     57567.53       8.220011           184     NaN  \n",
      "3      57727.46   57290.00     57385.01      14.753227           137 -285.88  \n",
      "4      57580.96   57411.07     57552.05       4.604033            67     NaN  \n",
      "..          ...        ...          ...            ...           ...     ...  \n",
      "139    57275.98   57076.13     57094.77       5.942151           152  596.69  \n",
      "140    57263.15   57066.76     57229.19       8.807071           133 -209.22  \n",
      "141    57269.95   57122.53     57241.95       9.153036           103  203.19  \n",
      "142    57261.70   57084.73     57174.81       5.382243           101 -185.22  \n",
      "143    57275.98   57154.42     57251.59      11.135251            99  191.25  \n",
      "\n",
      "[144 rows x 12 columns]\n"
     ]
    }
   ],
   "source": [
    "def get_pivots():\n",
    "    data = df\n",
    "    data['swings'] = np.nan\n",
    "\n",
    "    pivot = data.iloc[0].price_open\n",
    "  \n",
    "    last_pivot_id = 0\n",
    "    up_down = 0\n",
    "\n",
    "    diff = .3\n",
    "\n",
    "    for i in range(0, len(data)):\n",
    "        row = data.iloc[i]\n",
    "\n",
    "        # We don't have a trend yet\n",
    "        if up_down == 0:\n",
    "            if row.price_low < pivot - diff:\n",
    "                data.loc[i, 'swings'] = row.price_low - pivot\n",
    "                pivot, last_pivot_id = row.price_low, i\n",
    "                up_down = -1\n",
    "            elif row.price_high > pivot + diff:\n",
    "                data.loc[i, 'swings'] = row.price_high - pivot\n",
    "                pivot, last_pivot_id = row.price_high, i\n",
    "                up_down = 1\n",
    "\n",
    "        # Current trend is up\n",
    "        elif up_down == 1:\n",
    "            # If got price_higher than last pivot, update the swing\n",
    "            if row.price_high > pivot:\n",
    "                # Remove the last pivot, as it wasn't a real one\n",
    "                data.loc[i, 'swings'] = data.loc[last_pivot_id, 'swings'] + (row.price_high - data.loc[last_pivot_id, 'price_high'])\n",
    "                data.loc[last_pivot_id, 'swings'] = np.nan\n",
    "                pivot, last_pivot_id = row.price_high, i\n",
    "            elif row.price_low < pivot - diff:\n",
    "                data.loc[i, 'swings'] = row.price_low - pivot\n",
    "                pivot, last_pivot_id = row.price_low, i\n",
    "                # Change the trend indicator\n",
    "                up_down = -1\n",
    "\n",
    "        # Current trend is down\n",
    "        elif up_down == -1:\n",
    "             # If got price_lower than last pivot, update the swing\n",
    "            if row.price_low < pivot:\n",
    "                # Remove the last pivot, as it wasn't a real one\n",
    "                data.loc[i, 'swings'] = data.loc[last_pivot_id, 'swings'] + (row.price_low - data.loc[last_pivot_id, 'price_low'])\n",
    "                data.loc[last_pivot_id, 'swings'] = np.nan\n",
    "                pivot, last_pivot_id = row.price_low, i\n",
    "            elif row.price_high > pivot - diff:\n",
    "                data.loc[i, 'swings'] = row.price_high - pivot\n",
    "                pivot, last_pivot_id = row.price_high, i\n",
    "                # Change the trend indicator\n",
    "                up_down = 1\n",
    "\n",
    "    print(data)\n",
    "    data.to_excel('FINAL.xlsx')\n",
    "get_pivots()"
   ]
  }
 ],
 "metadata": {
  "kernelspec": {
   "display_name": "Python 3",
   "language": "python",
   "name": "python3"
  },
  "language_info": {
   "codemirror_mode": {
    "name": "ipython",
    "version": 3
   },
   "file_extension": ".py",
   "mimetype": "text/x-python",
   "name": "python",
   "nbconvert_exporter": "python",
   "pygments_lexer": "ipython3",
   "version": "3.8.4"
  }
 },
 "nbformat": 4,
 "nbformat_minor": 4
}
